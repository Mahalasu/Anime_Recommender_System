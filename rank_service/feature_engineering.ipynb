{
 "cells": [
  {
   "cell_type": "markdown",
   "metadata": {},
   "source": [
    "# Feature Engineering"
   ]
  },
  {
   "cell_type": "code",
   "execution_count": 49,
   "metadata": {},
   "outputs": [],
   "source": [
    "import pyspark\n",
    "from pyspark import SparkContext\n",
    "from pyspark.sql import SparkSession\n",
    "from pyspark.sql.functions import *"
   ]
  },
  {
   "cell_type": "code",
   "execution_count": 50,
   "metadata": {},
   "outputs": [],
   "source": [
    "spark = SparkSession.builder.appName('rank').config('spark.driver.memory', '11g').getOrCreate()"
   ]
  },
  {
   "cell_type": "markdown",
   "metadata": {},
   "source": [
    "## Load Data"
   ]
  },
  {
   "cell_type": "code",
   "execution_count": 51,
   "metadata": {},
   "outputs": [
    {
     "name": "stdout",
     "output_type": "stream",
     "text": [
      "root\n",
      " |-- anime_id: integer (nullable = true)\n",
      " |-- name: string (nullable = true)\n",
      " |-- genre: string (nullable = true)\n",
      " |-- type: string (nullable = true)\n",
      " |-- episodes: string (nullable = true)\n",
      " |-- all_rating: double (nullable = true)\n",
      " |-- members: integer (nullable = true)\n",
      " |-- japanese_title: string (nullable = true)\n",
      " |-- aired: string (nullable = true)\n",
      " |-- image_url: string (nullable = true)\n",
      " |-- aired_from: integer (nullable = true)\n",
      " |-- aired_to: integer (nullable = true)\n",
      "\n"
     ]
    }
   ],
   "source": [
    "anime_df = spark.read.csv('../data/parsed_anime.csv', header=True, inferSchema=True)\n",
    "anime_df = anime_df.withColumn('aired_from', col('aired_from').cast('int'))\n",
    "anime_df = anime_df.withColumnRenamed('rating', 'all_rating')\n",
    "anime_df.printSchema()"
   ]
  },
  {
   "cell_type": "code",
   "execution_count": 52,
   "metadata": {},
   "outputs": [
    {
     "name": "stdout",
     "output_type": "stream",
     "text": [
      "+--------+--------------------+--------------------+-----+--------+----------+-------+--------------------------+--------------------+--------------------+----------+----------+\n",
      "|anime_id|                name|               genre| type|episodes|all_rating|members|            japanese_title|               aired|           image_url|aired_from|  aired_to|\n",
      "+--------+--------------------+--------------------+-----+--------+----------+-------+--------------------------+--------------------+--------------------+----------+----------+\n",
      "|   32281|      Kimi no Na wa.|Drama, Romance, S...|Movie|       1|      9.37| 200630|                君の名は。|        Aug 26, 2016|https://cdn.myani...|1472140800|1472140800|\n",
      "|    5114|Fullmetal Alchemi...|Action, Adventure...|   TV|      64|      9.26| 793665|鋼の錬金術師 FULLMETAL ...|Apr 5, 2009 to Ju...|https://cdn.myani...|1238860800|1278172800|\n",
      "|   28977|            Gintama°|Action, Comedy, H...|   TV|      51|      9.25| 114262|                     銀魂°|Apr 8, 2015 to Ma...|https://cdn.myani...|1428422400|1459267200|\n",
      "|    9253|         Steins;Gate|    Sci-Fi, Thriller|   TV|      24|      9.17| 673572|               STEINS;GATE|Apr 6, 2011 to Se...|https://cdn.myani...|1302019200|1315929600|\n",
      "|    9969|       Gintama&#039;|Action, Comedy, H...|   TV|      51|      9.16| 151266|                     銀魂'|Apr 4, 2011 to Ma...|https://cdn.myani...|1301846400|1332691200|\n",
      "+--------+--------------------+--------------------+-----+--------+----------+-------+--------------------------+--------------------+--------------------+----------+----------+\n",
      "only showing top 5 rows\n",
      "\n"
     ]
    }
   ],
   "source": [
    "anime_df.show(5)"
   ]
  },
  {
   "cell_type": "code",
   "execution_count": 53,
   "metadata": {},
   "outputs": [
    {
     "name": "stderr",
     "output_type": "stream",
     "text": [
      "[Stage 102:=======>                                                 (1 + 7) / 8]\r"
     ]
    },
    {
     "name": "stdout",
     "output_type": "stream",
     "text": [
      "root\n",
      " |-- user_id: integer (nullable = true)\n",
      " |-- anime_id: integer (nullable = true)\n",
      " |-- rating: integer (nullable = true)\n",
      "\n"
     ]
    },
    {
     "name": "stderr",
     "output_type": "stream",
     "text": [
      "                                                                                \r"
     ]
    }
   ],
   "source": [
    "rating_df = spark.read.csv('../data/rating.csv', header=True, inferSchema=True)\n",
    "rating_df = rating_df.filter(rating_df['rating'] > 0)\n",
    "rating_df.printSchema()"
   ]
  },
  {
   "cell_type": "code",
   "execution_count": 54,
   "metadata": {},
   "outputs": [
    {
     "name": "stdout",
     "output_type": "stream",
     "text": [
      "+-------+--------+------+\n",
      "|user_id|anime_id|rating|\n",
      "+-------+--------+------+\n",
      "|      1|    8074|    10|\n",
      "|      1|   11617|    10|\n",
      "|      1|   11757|    10|\n",
      "|      1|   15451|    10|\n",
      "|      2|   11771|    10|\n",
      "+-------+--------+------+\n",
      "only showing top 5 rows\n",
      "\n"
     ]
    }
   ],
   "source": [
    "rating_df.show(5)"
   ]
  },
  {
   "cell_type": "markdown",
   "metadata": {},
   "source": [
    "## Merge anime_df with rating_df and Build Label"
   ]
  },
  {
   "cell_type": "markdown",
   "metadata": {},
   "source": [
    "'rating' > 7.5 ? like(1) : dislike(0)\n",
    "'7.5' comes from our previous data analysis"
   ]
  },
  {
   "cell_type": "code",
   "execution_count": 55,
   "metadata": {},
   "outputs": [],
   "source": [
    "like_threshold = 7.5\n",
    "\n",
    "merged_df = rating_df.join(\n",
    "    anime_df.select('anime_id', 'name', 'genre', 'type', 'episodes', \n",
    "                    'all_rating', 'members', 'aired_from', 'aired_to'),\n",
    "    on=['anime_id'], how='left'\n",
    ").withColumn('label', when(col('rating') >= like_threshold, 1).otherwise(0))"
   ]
  },
  {
   "cell_type": "code",
   "execution_count": 56,
   "metadata": {},
   "outputs": [
    {
     "name": "stdout",
     "output_type": "stream",
     "text": [
      "+--------+-------+------+--------------------+--------------------+----+--------+----------+-------+----------+----------+-----+\n",
      "|anime_id|user_id|rating|                name|               genre|type|episodes|all_rating|members|aired_from|  aired_to|label|\n",
      "+--------+-------+------+--------------------+--------------------+----+--------+----------+-------+----------+----------+-----+\n",
      "|    8074|      1|    10|Highschool of the...|Action, Ecchi, Ho...|  TV|      12|      7.46| 535892|1278259200|1284912000|    1|\n",
      "|   11617|      1|    10|     High School DxD|Comedy, Demons, E...|  TV|      12|       7.7| 398660|1325779200|1332432000|    1|\n",
      "|   11757|      1|    10|    Sword Art Online|Action, Adventure...|  TV|      25|      7.83| 893100|1341676800|1356192000|    1|\n",
      "|   15451|      1|    10| High School DxD New|Action, Comedy, D...|  TV|      12|      7.87| 266657|1373126400|1379779200|    1|\n",
      "|   11771|      2|    10|    Kuroko no Basket|Comedy, School, S...|  TV|      25|      8.46| 338315|1333814400|1348243200|    1|\n",
      "+--------+-------+------+--------------------+--------------------+----+--------+----------+-------+----------+----------+-----+\n",
      "only showing top 5 rows\n",
      "\n"
     ]
    }
   ],
   "source": [
    "merged_df.show(5)"
   ]
  },
  {
   "cell_type": "markdown",
   "metadata": {},
   "source": [
    "## Feature Builder"
   ]
  },
  {
   "cell_type": "code",
   "execution_count": 57,
   "metadata": {},
   "outputs": [],
   "source": [
    "from pyspark.ml.feature import MinMaxScaler, VectorAssembler\n",
    "from pyspark.ml import Pipeline\n",
    "import pyspark.sql.types as types\n",
    "from pyspark.sql import functions as F\n",
    "import builtins"
   ]
  },
  {
   "cell_type": "code",
   "execution_count": 58,
   "metadata": {},
   "outputs": [],
   "source": [
    "NUMBER_PRECISION = 2\n",
    "\n",
    "@udf(types.FloatType())\n",
    "def extract_float(l):\n",
    "    r = builtins.round(l[0], NUMBER_PRECISION)\n",
    "    return float(r)"
   ]
  },
  {
   "cell_type": "code",
   "execution_count": 59,
   "metadata": {},
   "outputs": [],
   "source": [
    "class NumericScaler:\n",
    "    def __init__(self, cols):\n",
    "        self.cols = cols\n",
    "        self.pipeline = self.__build_min_max_scalers(cols)\n",
    "        \n",
    "    def __build_min_max_scalers(self, cols):\n",
    "        pipelines = [self.__build_one_min_max_scaler(col) for col in cols]\n",
    "        return Pipeline(stages=pipelines)\n",
    "        \n",
    "    def __build_one_min_max_scaler(self, col):\n",
    "        output_col = f\"{col}_min_max\"\n",
    "\n",
    "        vec_assembler = VectorAssembler(inputCols=[col], outputCol=f\"{col}_vec\", handleInvalid='keep')\n",
    "        min_max_scaler = MinMaxScaler(inputCol=f\"{col}_vec\", outputCol=output_col)\n",
    "        pipeline = Pipeline(stages=[vec_assembler, min_max_scaler])\n",
    "\n",
    "        return pipeline\n",
    "        \n",
    "    def fit(self, df):\n",
    "        self.model = self.pipeline.fit(df)\n",
    "        \n",
    "    def transform(self, df):\n",
    "        result = self.model.transform(df)\n",
    "        \n",
    "        # drop all intermedia cols and convert output to float\n",
    "        for col in self.cols:\n",
    "            output_col = f\"{col}_min_max\"\n",
    "            result = result \\\n",
    "                .drop(f\"{col}_vec\") \\\n",
    "                .withColumn(output_col, extract_float(F.col(output_col)))\n",
    "            \n",
    "        return result"
   ]
  },
  {
   "cell_type": "code",
   "execution_count": 60,
   "metadata": {},
   "outputs": [],
   "source": [
    "item_numeric_cols = [\n",
    "    'all_rating',\n",
    "    'members',\n",
    "    'aired_from',\n",
    "    'aired_to'\n",
    "]\n",
    "\n",
    "item_numeric_scaler = NumericScaler(item_numeric_cols)"
   ]
  },
  {
   "cell_type": "code",
   "execution_count": 61,
   "metadata": {},
   "outputs": [],
   "source": [
    "user_numeric_cols = [\n",
    "    'user_rating_ave',\n",
    "    'user_rating_std',\n",
    "    'user_aired_from_ave',\n",
    "    'user_aired_to_ave'\n",
    "]\n",
    "\n",
    "user_numeric_scaler = NumericScaler(user_numeric_cols)"
   ]
  },
  {
   "cell_type": "code",
   "execution_count": 62,
   "metadata": {},
   "outputs": [],
   "source": [
    "from pyspark.ml.feature import StringIndexer, OneHotEncoder\n",
    "from pyspark.ml.linalg import SparseVector\n",
    "import numpy as np"
   ]
  },
  {
   "cell_type": "code",
   "execution_count": 63,
   "metadata": {},
   "outputs": [],
   "source": [
    "def encode_genres_col(index_mapping_broadcasted):\n",
    "    @udf(returnType='array<int>')\n",
    "    def encode_genres_col(genres, max_genre_index):\n",
    "        if genres is None:\n",
    "            genres = []\n",
    "        gen_vec = [index_mapping_broadcasted.value.get(gen) for gen in genres]\n",
    "        gen_vec = list(set(gen_vec)) # dedup\n",
    "\n",
    "        # convert genre vector to multi-hot\n",
    "        fill = np.ones(len(gen_vec), dtype=np.int32)\n",
    "        sorted_index = np.sort(gen_vec)\n",
    "        multihot_vec = SparseVector(max_genre_index + 1, sorted_index, fill)\n",
    "        return multihot_vec.toArray().astype(np.int32).tolist()\n",
    "    \n",
    "    return encode_genres_col"
   ]
  },
  {
   "cell_type": "code",
   "execution_count": 64,
   "metadata": {},
   "outputs": [],
   "source": [
    "class CategoricalEncoder:\n",
    "    def __init__(self, colname):\n",
    "        self.colname = colname\n",
    "    \n",
    "    def fit(self, df):\n",
    "        exploded_df = df.withColumn(\n",
    "            'genre_item',\n",
    "            explode(col('genres'))\n",
    "        )\n",
    "        \n",
    "        genre_string_indexer = StringIndexer(inputCol='genre_item', outputCol='genre_index')\n",
    "        indexer_model = genre_string_indexer.fit(exploded_df)\n",
    "        \n",
    "        # get mapping from string indexer\n",
    "        gens_df = spark.createDataFrame(\n",
    "            [{'genre_item': g} for g in indexer_model.labels]\n",
    "        )\n",
    "        mapping_df = indexer_model.transform(gens_df).collect()\n",
    "        mapping_dict = {row.genre_item: int(row.genre_index) for row in mapping_df}\n",
    "        self.max_genre_index = builtins.max(mapping_dict.values())\n",
    "        broadcasted = spark.sparkContext.broadcast(mapping_dict)\n",
    "        \n",
    "        self.encode_fn = encode_genres_col(broadcasted)\n",
    "        \n",
    "    def transform(self, df):\n",
    "        return df \\\n",
    "            .withColumn(\n",
    "                f\"{self.colname}_multihot\", \n",
    "                self.encode_fn(col(self.colname), lit(self.max_genre_index))\n",
    "            )"
   ]
  },
  {
   "cell_type": "code",
   "execution_count": 65,
   "metadata": {},
   "outputs": [],
   "source": [
    "item_categorical_encoder = CategoricalEncoder('genres')\n",
    "user_categorical_encoder = CategoricalEncoder('user_liked_genres')"
   ]
  },
  {
   "cell_type": "markdown",
   "metadata": {},
   "source": [
    "## Add More Relative Info for Each Row"
   ]
  },
  {
   "cell_type": "markdown",
   "metadata": {},
   "source": [
    "Used sliding window to avoid leak of future information."
   ]
  },
  {
   "cell_type": "code",
   "execution_count": 66,
   "metadata": {},
   "outputs": [],
   "source": [
    "from pyspark.sql.window import Window"
   ]
  },
  {
   "cell_type": "code",
   "execution_count": 67,
   "metadata": {},
   "outputs": [],
   "source": [
    "liked_movie_col = lambda col_name: when(col('label') == 1, col(col_name)).otherwise(lit(None))\n",
    "\n",
    "@udf(returnType='array<string>')\n",
    "def genre_to_list(gen_str):\n",
    "    if gen_str is None:\n",
    "        return []\n",
    "    \n",
    "    gens = gen_str.split(\",\")\n",
    "    return [gen.strip() for gen in gens]\n",
    "\n",
    "\n",
    "@udf(types.ArrayType(types.StringType()))\n",
    "def most_liked_genres(gen_strs):\n",
    "    \"\"\"\n",
    "    gen_strs = [\"Action, Adventure, Drama\", \"Comedy, Drama, School\"]\n",
    "    \"\"\"\n",
    "    gens = [s.split(\",\") for s in gen_strs]\n",
    "    gens = [x for l in gens for x in l] # flatten\n",
    "    gens = [s.strip() for s in gens]\n",
    "    \n",
    "    gen_set = set(gens)\n",
    "    count_occur = lambda gen, l: len([g for g in l if g == gen])\n",
    "    gen_with_occur = [(gen, count_occur(gen, gens)) for gen in gen_set]\n",
    "    gen_with_occur.sort(key=lambda x: x[1], reverse=True)\n",
    "    \n",
    "    # pick 5 most liked genres\n",
    "    return [x[0] for x in gen_with_occur[:5]]"
   ]
  },
  {
   "cell_type": "code",
   "execution_count": 68,
   "metadata": {},
   "outputs": [],
   "source": [
    "window_spec = Window.partitionBy('user_id').orderBy('aired_from').rowsBetween(-100, -1)"
   ]
  },
  {
   "cell_type": "code",
   "execution_count": 69,
   "metadata": {},
   "outputs": [],
   "source": [
    "feat_df = merged_df \\\n",
    "    .withColumn('genres', genre_to_list(col('genre'))) \\\n",
    "    .withColumn('user_rating_cnt', count(lit(1)).over(window_spec)) \\\n",
    "    .withColumn('user_rating_ave', mean(col('rating')).over(window_spec)) \\\n",
    "    .withColumn('user_rating_ave', F.round(col('user_rating_ave'), NUMBER_PRECISION)) \\\n",
    "    .withColumn('user_rating_std', stddev(col('rating')).over(window_spec)) \\\n",
    "    .withColumn('user_rating_std', F.round(col('user_rating_std'), NUMBER_PRECISION)) \\\n",
    "    .withColumn('user_aired_from_ave', mean(liked_movie_col('aired_from')).over(window_spec)) \\\n",
    "    .withColumn('user_aired_from_ave', F.round(col('user_aired_from_ave'), 0)) \\\n",
    "    .withColumn('user_aired_to_ave', mean(liked_movie_col('aired_to')).over(window_spec)) \\\n",
    "    .withColumn('user_aired_to_ave', F.round(col('user_aired_to_ave'), 0)) \\\n",
    "    .withColumn('user_liked_genres', most_liked_genres(collect_list(liked_movie_col('genre')).over(window_spec)))"
   ]
  },
  {
   "cell_type": "code",
   "execution_count": 70,
   "metadata": {},
   "outputs": [
    {
     "name": "stderr",
     "output_type": "stream",
     "text": [
      "[Stage 107:==========================================>              (6 + 2) / 8]\r"
     ]
    },
    {
     "name": "stdout",
     "output_type": "stream",
     "text": [
      "-RECORD 0-----------------------------------\n",
      " anime_id            | 523                  \n",
      " user_id             | 31                   \n",
      " rating              | 7                    \n",
      " name                | Tonari no Totoro     \n",
      " genre               | Adventure, Comedy... \n",
      " type                | Movie                \n",
      " episodes            | 1                    \n",
      " all_rating          | 8.48                 \n",
      " members             | 271484               \n",
      " aired_from          | 577123200            \n",
      " aired_to            | 577123200            \n",
      " label               | 0                    \n",
      " genres              | [Adventure, Comed... \n",
      " user_rating_cnt     | 0                    \n",
      " user_rating_ave     | null                 \n",
      " user_rating_std     | null                 \n",
      " user_aired_from_ave | null                 \n",
      " user_aired_to_ave   | null                 \n",
      " user_liked_genres   | []                   \n",
      "-RECORD 1-----------------------------------\n",
      " anime_id            | 15                   \n",
      " user_id             | 31                   \n",
      " rating              | 7                    \n",
      " name                | Eyeshield 21         \n",
      " genre               | Action, Comedy, S... \n",
      " type                | TV                   \n",
      " episodes            | 145                  \n",
      " all_rating          | 8.08                 \n",
      " members             | 83648                \n",
      " aired_from          | 1112716800           \n",
      " aired_to            | 1205856000           \n",
      " label               | 0                    \n",
      " genres              | [Action, Comedy, ... \n",
      " user_rating_cnt     | 1                    \n",
      " user_rating_ave     | 7.0                  \n",
      " user_rating_std     | null                 \n",
      " user_aired_from_ave | null                 \n",
      " user_aired_to_ave   | null                 \n",
      " user_liked_genres   | []                   \n",
      "-RECORD 2-----------------------------------\n",
      " anime_id            | 356                  \n",
      " user_id             | 31                   \n",
      " rating              | 7                    \n",
      " name                | Fate/stay night      \n",
      " genre               | Action, Fantasy, ... \n",
      " type                | TV                   \n",
      " episodes            | 24                   \n",
      " all_rating          | 7.58                 \n",
      " members             | 374880               \n",
      " aired_from          | 1136563200           \n",
      " aired_to            | 1150473600           \n",
      " label               | 0                    \n",
      " genres              | [Action, Fantasy,... \n",
      " user_rating_cnt     | 2                    \n",
      " user_rating_ave     | 7.0                  \n",
      " user_rating_std     | 0.0                  \n",
      " user_aired_from_ave | null                 \n",
      " user_aired_to_ave   | null                 \n",
      " user_liked_genres   | []                   \n",
      "-RECORD 3-----------------------------------\n",
      " anime_id            | 1195                 \n",
      " user_id             | 31                   \n",
      " rating              | 7                    \n",
      " name                | Zero no Tsukaima     \n",
      " genre               | Action, Adventure... \n",
      " type                | TV                   \n",
      " episodes            | 13                   \n",
      " all_rating          | 7.62                 \n",
      " members             | 346828               \n",
      " aired_from          | 1151856000           \n",
      " aired_to            | 1159113600           \n",
      " label               | 0                    \n",
      " genres              | [Action, Adventur... \n",
      " user_rating_cnt     | 3                    \n",
      " user_rating_ave     | 7.0                  \n",
      " user_rating_std     | 0.0                  \n",
      " user_aired_from_ave | null                 \n",
      " user_aired_to_ave   | null                 \n",
      " user_liked_genres   | []                   \n",
      "-RECORD 4-----------------------------------\n",
      " anime_id            | 2581                 \n",
      " user_id             | 31                   \n",
      " rating              | 9                    \n",
      " name                | Mobile Suit Gunda... \n",
      " genre               | Action, Drama, Me... \n",
      " type                | TV                   \n",
      " episodes            | 25                   \n",
      " all_rating          | 8.24                 \n",
      " members             | 120351               \n",
      " aired_from          | 1191600000           \n",
      " aired_to            | 1206720000           \n",
      " label               | 1                    \n",
      " genres              | [Action, Drama, M... \n",
      " user_rating_cnt     | 4                    \n",
      " user_rating_ave     | 7.0                  \n",
      " user_rating_std     | 0.0                  \n",
      " user_aired_from_ave | null                 \n",
      " user_aired_to_ave   | null                 \n",
      " user_liked_genres   | []                   \n",
      "only showing top 5 rows\n",
      "\n"
     ]
    },
    {
     "name": "stderr",
     "output_type": "stream",
     "text": [
      "                                                                                \r"
     ]
    }
   ],
   "source": [
    "feat_df.show(5, vertical=True)"
   ]
  },
  {
   "cell_type": "code",
   "execution_count": 71,
   "metadata": {},
   "outputs": [
    {
     "name": "stderr",
     "output_type": "stream",
     "text": [
      "                                                                                \r"
     ]
    }
   ],
   "source": [
    "item_numeric_scaler.fit(feat_df)\n",
    "user_numeric_scaler.fit(feat_df)\n",
    "item_categorical_encoder.fit(feat_df)\n",
    "user_categorical_encoder.fit(feat_df)"
   ]
  },
  {
   "cell_type": "code",
   "execution_count": 72,
   "metadata": {},
   "outputs": [],
   "source": [
    "transformed_df = item_numeric_scaler.transform(feat_df)\n",
    "transformed_df = user_numeric_scaler.transform(transformed_df)\n",
    "transformed_df = item_categorical_encoder.transform(transformed_df)\n",
    "transformed_df = user_categorical_encoder.transform(transformed_df)"
   ]
  },
  {
   "cell_type": "markdown",
   "metadata": {},
   "source": [
    "## Transform Data for Feature Serving"
   ]
  },
  {
   "cell_type": "code",
   "execution_count": 73,
   "metadata": {},
   "outputs": [],
   "source": [
    "anime_genres_df = anime_df.withColumn('genres', genre_to_list(col('genre')))"
   ]
  },
  {
   "cell_type": "code",
   "execution_count": 74,
   "metadata": {},
   "outputs": [],
   "source": [
    "item_numeric_transformed_df = item_numeric_scaler.transform(anime_genres_df)\n",
    "item_both_transformed_df = item_categorical_encoder.transform(item_numeric_transformed_df)"
   ]
  },
  {
   "cell_type": "code",
   "execution_count": 75,
   "metadata": {},
   "outputs": [],
   "source": [
    "w = Window.partitionBy('user_id')\n",
    "\n",
    "user_feat_df = feat_df.withColumn('max_aired', max('aired_from').over(w)) \\\n",
    "    .where(col('aired_from') == col('max_aired')) \\\n",
    "    .drop('max_aired') "
   ]
  },
  {
   "cell_type": "code",
   "execution_count": 76,
   "metadata": {},
   "outputs": [],
   "source": [
    "user_numeric_transformed_df = user_numeric_scaler.transform(user_feat_df)\n",
    "user_both_transformed_df = user_categorical_encoder.transform(user_numeric_transformed_df)"
   ]
  },
  {
   "cell_type": "markdown",
   "metadata": {},
   "source": [
    "## Save"
   ]
  },
  {
   "cell_type": "code",
   "execution_count": 77,
   "metadata": {},
   "outputs": [
    {
     "name": "stderr",
     "output_type": "stream",
     "text": [
      "                                                                                \r"
     ]
    }
   ],
   "source": [
    "item_features = item_both_transformed_df.collect()"
   ]
  },
  {
   "cell_type": "code",
   "execution_count": 78,
   "metadata": {},
   "outputs": [
    {
     "data": {
      "text/plain": [
       "Row(anime_id=5114, name='Fullmetal Alchemist: Brotherhood', genre='Action, Adventure, Drama, Fantasy, Magic, Military, Shounen', type='TV', episodes='64', all_rating=9.26, members=793665, japanese_title='鋼の錬金術師 FULLMETAL ALCHEMIST', aired='Apr 5, 2009 to Jul 4, 2010', image_url='https://cdn.myanimelist.net/images/anime/1223/96541.jpg', aired_from=1238860800, aired_to=1278172800, genres=['Action', 'Adventure', 'Drama', 'Fantasy', 'Magic', 'Military', 'Shounen'], all_rating_min_max=0.9900000095367432, members_min_max=0.7799999713897705, aired_from_min_max=0.8999999761581421, aired_to_min_max=0.8999999761581421, genres_multihot=[0, 1, 0, 1, 1, 0, 0, 1, 1, 0, 0, 0, 0, 0, 1, 0, 0, 0, 0, 0, 1, 0, 0, 0, 0, 0, 0, 0, 0, 0, 0, 0, 0, 0, 0, 0, 0, 0, 0, 0, 0, 0, 0])"
      ]
     },
     "execution_count": 78,
     "metadata": {},
     "output_type": "execute_result"
    }
   ],
   "source": [
    "item_features[1]"
   ]
  },
  {
   "cell_type": "code",
   "execution_count": 79,
   "metadata": {},
   "outputs": [
    {
     "name": "stderr",
     "output_type": "stream",
     "text": [
      "                                                                                \r"
     ]
    }
   ],
   "source": [
    "user_features = user_both_transformed_df.collect()"
   ]
  },
  {
   "cell_type": "code",
   "execution_count": 80,
   "metadata": {},
   "outputs": [
    {
     "data": {
      "text/plain": [
       "Row(anime_id=16001, user_id=53, rating=9, name='Kokoro Connect: Michi Random', genre='Comedy, Drama, Romance, School, Slice of Life, Supernatural', type='Special', episodes='4', all_rating=8.19, members=106989, aired_from=1353254400, aired_to=1355068800, label=1, genres=['Comedy', 'Drama', 'Romance', 'School', 'Slice of Life', 'Supernatural'], user_rating_cnt=39, user_rating_ave=7.62, user_rating_std=1.76, user_aired_from_ave=1238832000.0, user_aired_to_ave=1247838171.0, user_liked_genres=['Romance', 'Comedy', 'School', 'Drama', 'Slice of Life'], user_rating_ave_min_max=0.7400000095367432, user_rating_std_min_max=0.2800000011920929, user_aired_from_ave_min_max=0.9300000071525574, user_aired_to_ave_min_max=0.9300000071525574, user_liked_genres_multihot=[1, 0, 1, 1, 0, 0, 1, 0, 0, 0, 1, 0, 0, 0, 0, 0, 0, 0, 0, 0, 0, 0, 0, 0, 0, 0, 0, 0, 0, 0, 0, 0, 0, 0, 0, 0, 0, 0, 0, 0, 0, 0, 0])"
      ]
     },
     "execution_count": 80,
     "metadata": {},
     "output_type": "execute_result"
    }
   ],
   "source": [
    "user_features[1]"
   ]
  },
  {
   "cell_type": "markdown",
   "metadata": {},
   "source": [
    "Save to Redis"
   ]
  },
  {
   "cell_type": "code",
   "execution_count": 82,
   "metadata": {},
   "outputs": [],
   "source": [
    "from redis import Redis"
   ]
  },
  {
   "cell_type": "code",
   "execution_count": 83,
   "metadata": {},
   "outputs": [],
   "source": [
    "redis = Redis(\n",
    "    host='localhost',\n",
    "    port=6379,\n",
    "    db=0,\n",
    ")"
   ]
  },
  {
   "cell_type": "code",
   "execution_count": 84,
   "metadata": {},
   "outputs": [],
   "source": [
    "item_numeric_feature_prefix = 'rank:item:num'\n",
    "user_numeric_feature_prefix = 'rank:user:num'\n",
    "item_categorical_feature_prefix = 'rank:item:cat'\n",
    "user_categorical_feature_prefix = 'rank:user:cat'\n",
    "\n",
    "def save_numeric_features(rows, features, idcol, prefix):\n",
    "    for row in rows:\n",
    "        mapping = {feat: row[feat] for feat in features}\n",
    "        key = f\"{prefix}:{row[idcol]}\"\n",
    "        redis.hset(key, mapping=mapping)"
   ]
  },
  {
   "cell_type": "code",
   "execution_count": 85,
   "metadata": {},
   "outputs": [],
   "source": [
    "item_num_features = [\n",
    "    'all_rating_min_max',\n",
    "    'members_min_max',\n",
    "    'aired_from_min_max',\n",
    "    'aired_to_min_max'\n",
    "]\n",
    "\n",
    "save_numeric_features(\n",
    "    item_features, \n",
    "    item_num_features,\n",
    "    'anime_id',\n",
    "    item_numeric_feature_prefix\n",
    ")"
   ]
  },
  {
   "cell_type": "code",
   "execution_count": 86,
   "metadata": {},
   "outputs": [],
   "source": [
    "user_num_features = [\n",
    "    'user_rating_ave_min_max',\n",
    "    'user_rating_std_min_max',\n",
    "    'user_aired_from_ave_min_max',\n",
    "    'user_aired_to_ave_min_max'\n",
    "]\n",
    "\n",
    "save_numeric_features(\n",
    "    user_features,\n",
    "    user_num_features,\n",
    "    'user_id',\n",
    "    user_numeric_feature_prefix\n",
    ")"
   ]
  },
  {
   "cell_type": "code",
   "execution_count": 87,
   "metadata": {},
   "outputs": [],
   "source": [
    "import json\n",
    "\n",
    "def list2str(l):\n",
    "    return json.dumps(l)\n",
    "\n",
    "def save_categorical_features(rows, feature, idcol, prefix):\n",
    "    for row in rows:\n",
    "        mapping = {\n",
    "            feature: list2str(row[feature])\n",
    "        }\n",
    "        key = f\"{prefix}:{row[idcol]}\"\n",
    "        redis.hset(key, mapping=mapping)"
   ]
  },
  {
   "cell_type": "code",
   "execution_count": 88,
   "metadata": {},
   "outputs": [],
   "source": [
    "save_categorical_features(\n",
    "    item_features,\n",
    "    'genres_multihot',\n",
    "    'anime_id',\n",
    "    item_categorical_feature_prefix\n",
    ")"
   ]
  },
  {
   "cell_type": "code",
   "execution_count": 89,
   "metadata": {},
   "outputs": [],
   "source": [
    "save_categorical_features(\n",
    "    user_features,\n",
    "    'user_liked_genres_multihot',\n",
    "    'user_id',\n",
    "    user_categorical_feature_prefix\n",
    ")"
   ]
  }
 ],
 "metadata": {
  "kernelspec": {
   "display_name": "Python 3.8.14 ('venv': venv)",
   "language": "python",
   "name": "python3"
  },
  "language_info": {
   "codemirror_mode": {
    "name": "ipython",
    "version": 3
   },
   "file_extension": ".py",
   "mimetype": "text/x-python",
   "name": "python",
   "nbconvert_exporter": "python",
   "pygments_lexer": "ipython3",
   "version": "3.8.14"
  },
  "orig_nbformat": 4,
  "vscode": {
   "interpreter": {
    "hash": "f18d6d85afa27dc79607f207c49cc7922ddaa66e675d81ef99263abf5db2e8cf"
   }
  }
 },
 "nbformat": 4,
 "nbformat_minor": 2
}
